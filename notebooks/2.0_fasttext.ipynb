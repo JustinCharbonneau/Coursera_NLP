{
 "cells": [
  {
   "cell_type": "markdown",
   "metadata": {},
   "source": [
    "# FastText\n",
    "\n",
    "[Documentation](https://fasttext.cc/docs/en/support.html)  \n",
    "[Article](https://arxiv.org/abs/1607.01759)\n",
    "\n",
    "### Recap\n",
    "\n",
    "\n",
    "### Summary\n",
    "\n",
    "\n",
    "  \n",
    "### Additional Resources\n"
   ]
  },
  {
   "cell_type": "code",
   "execution_count": 99,
   "metadata": {},
   "outputs": [],
   "source": [
    "import sys\n",
    "sys.path.append('../src')\n",
    "import pandas as pd\n",
    "from sklearn.metrics import classification_report, confusion_matrix, accuracy_score\n",
    "import fasttext as ft\n",
    "from pathlib import Path\n",
    "from os import remove\n",
    "import numpy as np\n",
    "from sklearn.model_selection import train_test_split"
   ]
  },
  {
   "cell_type": "code",
   "execution_count": 98,
   "metadata": {},
   "outputs": [],
   "source": [
    "df = pd.read_parquet('../data/processed/imdb_dataset.parquet')\n",
    "train_df = df[df['role']=='train']\n",
    "test_df = df[df['role']=='test']\n",
    "del df"
   ]
  },
  {
   "cell_type": "markdown",
   "metadata": {},
   "source": [
    "# FastText Default\n",
    "\n",
    "This library has a few particularities.  \n",
    "It needs the data to be in a specific format such that the category has this prefix \"__label __\" and must be in a text file.  \n",
    "\n",
    "Thus, we will prepare the dataset, and as soon as we are ready to fit the model, we will write the fite in a temporary location so that the model can read it from there, and when it is trained, we delete the file."
   ]
  },
  {
   "cell_type": "code",
   "execution_count": 57,
   "metadata": {},
   "outputs": [],
   "source": [
    "def fastext_preprocess(df:pd.DataFrame, label_colname:str):\n",
    "    # Convert label column to string format for comparison later on\n",
    "    if not isinstance(df[label_colname].iloc[0], str):\n",
    "        df = df.astype({label_colname: 'str'})\n",
    "        \n",
    "    original_labels = df[label_colname].unique()\n",
    "    df[label_colname] = \"__label__\" + df[label_colname].astype(str)\n",
    "    preprocessed_labels = df[label_colname].unique()\n",
    "    label_mapping = map(original_labels,preprocessed_labels)\n",
    "    \n",
    "    return df, label_mapping"
   ]
  },
  {
   "cell_type": "code",
   "execution_count": 58,
   "metadata": {},
   "outputs": [],
   "source": [
    "train_df, mapping = fastext_preprocess(train_df,'sentiment')"
   ]
  },
  {
   "cell_type": "code",
   "execution_count": 23,
   "metadata": {},
   "outputs": [],
   "source": [
    "# Write df to a text file , train the model using the text file and delete temp text file\n",
    "train_df[['sentiment', 'review']].to_csv(Path('../data/interim/temp_fasttext.csv'), header=None, index=None, sep='\\t')\n",
    "model = ft.train_supervised(str(Path('../data/interim/temp_fasttext.csv')))\n",
    "remove(Path('../data/interim/temp_fasttext.csv'))"
   ]
  },
  {
   "cell_type": "code",
   "execution_count": 44,
   "metadata": {},
   "outputs": [],
   "source": [
    "# Convert df to list\n",
    "test_df_list = list(test_df['review'].values)\n",
    "predictions = model.predict(test_df_list)"
   ]
  },
  {
   "cell_type": "code",
   "execution_count": 68,
   "metadata": {},
   "outputs": [],
   "source": [
    "test_df, _ = fastext_preprocess(test_df, 'sentiment')"
   ]
  },
  {
   "cell_type": "code",
   "execution_count": 78,
   "metadata": {},
   "outputs": [],
   "source": [
    "predictions = np.array(predictions[0]).flatten()"
   ]
  },
  {
   "cell_type": "code",
   "execution_count": 79,
   "metadata": {},
   "outputs": [
    {
     "data": {
      "text/plain": [
       "0.8965723395775209"
      ]
     },
     "execution_count": 79,
     "metadata": {},
     "output_type": "execute_result"
    }
   ],
   "source": [
    "accuracy_score(test_df['sentiment'],predictions)"
   ]
  },
  {
   "cell_type": "markdown",
   "metadata": {},
   "source": [
    "# FastText with Autotune"
   ]
  },
  {
   "cell_type": "code",
   "execution_count": 100,
   "metadata": {},
   "outputs": [],
   "source": [
    "train_df, valid_df = train_test_split(train_df,test_size=.1)"
   ]
  },
  {
   "cell_type": "code",
   "execution_count": 103,
   "metadata": {},
   "outputs": [],
   "source": [
    "train_df, _ = fastext_preprocess(train_df,'sentiment')\n",
    "valid_df, _ = fastext_preprocess(valid_df,'sentiment')\n",
    "\n",
    "train_df[['sentiment', 'review']].to_csv(Path('../data/interim/temp_fasttext.csv'), header=None, index=None, sep='\\t')\n",
    "valid_df[['sentiment', 'review']].to_csv(Path('../data/interim/temp_fasttext_v.csv'), header=None, index=None, sep='\\t')"
   ]
  },
  {
   "cell_type": "code",
   "execution_count": 105,
   "metadata": {},
   "outputs": [],
   "source": [
    "model = ft.train_supervised(str(Path('../data/interim/temp_fasttext.csv')),\n",
    "                            autotuneValidationFile='../data/interim/temp_fasttext_v.csv',\n",
    "                            autotuneDuration=120)"
   ]
  },
  {
   "cell_type": "code",
   "execution_count": 106,
   "metadata": {},
   "outputs": [],
   "source": [
    "remove(Path('../data/interim/temp_fasttext.csv'))\n",
    "remove(Path('../data/interim/temp_fasttext_v.csv'))"
   ]
  },
  {
   "cell_type": "code",
   "execution_count": 107,
   "metadata": {},
   "outputs": [],
   "source": [
    "predictions = model.predict(test_df_list)"
   ]
  },
  {
   "cell_type": "code",
   "execution_count": 108,
   "metadata": {},
   "outputs": [],
   "source": [
    "predictions = np.array(predictions[0]).flatten()"
   ]
  },
  {
   "cell_type": "code",
   "execution_count": 113,
   "metadata": {},
   "outputs": [
    {
     "data": {
      "text/plain": [
       "0.9042447190115583"
      ]
     },
     "execution_count": 113,
     "metadata": {},
     "output_type": "execute_result"
    }
   ],
   "source": [
    "test_df, _ = fastext_preprocess(test_df, 'sentiment')\n",
    "accuracy_score(test_df['sentiment'],predictions)"
   ]
  },
  {
   "cell_type": "code",
   "execution_count": null,
   "metadata": {},
   "outputs": [],
   "source": []
  }
 ],
 "metadata": {
  "kernelspec": {
   "display_name": "Python 3",
   "language": "python",
   "name": "python3"
  },
  "language_info": {
   "codemirror_mode": {
    "name": "ipython",
    "version": 3
   },
   "file_extension": ".py",
   "mimetype": "text/x-python",
   "name": "python",
   "nbconvert_exporter": "python",
   "pygments_lexer": "ipython3",
   "version": "3.8.5"
  }
 },
 "nbformat": 4,
 "nbformat_minor": 4
}
