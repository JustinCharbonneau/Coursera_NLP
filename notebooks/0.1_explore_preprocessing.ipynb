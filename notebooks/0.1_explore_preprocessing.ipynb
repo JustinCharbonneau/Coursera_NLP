{
 "cells": [
  {
   "cell_type": "markdown",
   "metadata": {},
   "source": [
    "# Preprocessing\n",
    "\n",
    "Summary\n",
    "------\n",
    "- Numericalize the sentiment label {\"negative\":0, \"positive\":1}\n",
    "- Remove stopwords and punctuations, lowercase and lemmatize"
   ]
  },
  {
   "cell_type": "code",
   "execution_count": 1,
   "metadata": {},
   "outputs": [],
   "source": [
    "import sys\n",
    "sys.path.append('../src')\n",
    "import pandas as pd\n",
    "import numpy as np\n",
    "from utils.TextProcessor import TextProcessor\n",
    "from nltk.corpus import stopwords\n",
    "import string\n",
    "from sklearn.feature_extraction.text import CountVectorizer"
   ]
  },
  {
   "cell_type": "code",
   "execution_count": 2,
   "metadata": {},
   "outputs": [],
   "source": [
    "df = pd.read_parquet('../data/raw/IMDB Dataset.parquet')"
   ]
  },
  {
   "cell_type": "code",
   "execution_count": 3,
   "metadata": {},
   "outputs": [
    {
     "data": {
      "text/html": [
       "<div>\n",
       "<style scoped>\n",
       "    .dataframe tbody tr th:only-of-type {\n",
       "        vertical-align: middle;\n",
       "    }\n",
       "\n",
       "    .dataframe tbody tr th {\n",
       "        vertical-align: top;\n",
       "    }\n",
       "\n",
       "    .dataframe thead th {\n",
       "        text-align: right;\n",
       "    }\n",
       "</style>\n",
       "<table border=\"1\" class=\"dataframe\">\n",
       "  <thead>\n",
       "    <tr style=\"text-align: right;\">\n",
       "      <th></th>\n",
       "      <th>review</th>\n",
       "      <th>sentiment</th>\n",
       "    </tr>\n",
       "  </thead>\n",
       "  <tbody>\n",
       "    <tr>\n",
       "      <th>0</th>\n",
       "      <td>One of the other reviewers has mentioned that ...</td>\n",
       "      <td>positive</td>\n",
       "    </tr>\n",
       "    <tr>\n",
       "      <th>1</th>\n",
       "      <td>A wonderful little production. &lt;br /&gt;&lt;br /&gt;The...</td>\n",
       "      <td>positive</td>\n",
       "    </tr>\n",
       "    <tr>\n",
       "      <th>2</th>\n",
       "      <td>I thought this was a wonderful way to spend ti...</td>\n",
       "      <td>positive</td>\n",
       "    </tr>\n",
       "    <tr>\n",
       "      <th>3</th>\n",
       "      <td>Basically there's a family where a little boy ...</td>\n",
       "      <td>negative</td>\n",
       "    </tr>\n",
       "    <tr>\n",
       "      <th>4</th>\n",
       "      <td>Petter Mattei's \"Love in the Time of Money\" is...</td>\n",
       "      <td>positive</td>\n",
       "    </tr>\n",
       "  </tbody>\n",
       "</table>\n",
       "</div>"
      ],
      "text/plain": [
       "                                              review sentiment\n",
       "0  One of the other reviewers has mentioned that ...  positive\n",
       "1  A wonderful little production. <br /><br />The...  positive\n",
       "2  I thought this was a wonderful way to spend ti...  positive\n",
       "3  Basically there's a family where a little boy ...  negative\n",
       "4  Petter Mattei's \"Love in the Time of Money\" is...  positive"
      ]
     },
     "execution_count": 3,
     "metadata": {},
     "output_type": "execute_result"
    }
   ],
   "source": [
    "df.head()"
   ]
  },
  {
   "cell_type": "markdown",
   "metadata": {},
   "source": [
    "## Convert sentiment label into numeric"
   ]
  },
  {
   "cell_type": "code",
   "execution_count": 4,
   "metadata": {},
   "outputs": [],
   "source": [
    "df['sentiment'] = df['sentiment'] == 'positive'\n",
    "df['sentiment'] = df['sentiment'].astype(int)"
   ]
  },
  {
   "cell_type": "markdown",
   "metadata": {},
   "source": [
    "## Look at default preprocessing"
   ]
  },
  {
   "cell_type": "code",
   "execution_count": 5,
   "metadata": {},
   "outputs": [
    {
     "name": "stdout",
     "output_type": "stream",
     "text": [
      "using wordnet stop list\n"
     ]
    },
    {
     "data": {
      "text/html": [
       "<div>\n",
       "<style scoped>\n",
       "    .dataframe tbody tr th:only-of-type {\n",
       "        vertical-align: middle;\n",
       "    }\n",
       "\n",
       "    .dataframe tbody tr th {\n",
       "        vertical-align: top;\n",
       "    }\n",
       "\n",
       "    .dataframe thead th {\n",
       "        text-align: right;\n",
       "    }\n",
       "</style>\n",
       "<table border=\"1\" class=\"dataframe\">\n",
       "  <thead>\n",
       "    <tr style=\"text-align: right;\">\n",
       "      <th></th>\n",
       "      <th>review</th>\n",
       "      <th>sentiment</th>\n",
       "    </tr>\n",
       "  </thead>\n",
       "  <tbody>\n",
       "    <tr>\n",
       "      <th>0</th>\n",
       "      <td>one reviewer ha mentioned watching 1 oz episod...</td>\n",
       "      <td>1</td>\n",
       "    </tr>\n",
       "    <tr>\n",
       "      <th>1</th>\n",
       "      <td>wonderful little production . &lt; br / &gt; &lt; br / ...</td>\n",
       "      <td>1</td>\n",
       "    </tr>\n",
       "    <tr>\n",
       "      <th>2</th>\n",
       "      <td>thought wa wonderful way spend time hot summer...</td>\n",
       "      <td>1</td>\n",
       "    </tr>\n",
       "    <tr>\n",
       "      <th>3</th>\n",
       "      <td>basically 's family little boy ( jake ) think ...</td>\n",
       "      <td>0</td>\n",
       "    </tr>\n",
       "    <tr>\n",
       "      <th>4</th>\n",
       "      <td>petter mattei 's `` love time money '' visuall...</td>\n",
       "      <td>1</td>\n",
       "    </tr>\n",
       "  </tbody>\n",
       "</table>\n",
       "</div>"
      ],
      "text/plain": [
       "                                              review  sentiment\n",
       "0  one reviewer ha mentioned watching 1 oz episod...          1\n",
       "1  wonderful little production . < br / > < br / ...          1\n",
       "2  thought wa wonderful way spend time hot summer...          1\n",
       "3  basically 's family little boy ( jake ) think ...          0\n",
       "4  petter mattei 's `` love time money '' visuall...          1"
      ]
     },
     "execution_count": 5,
     "metadata": {},
     "output_type": "execute_result"
    }
   ],
   "source": [
    "tp = TextProcessor()\n",
    "df_default = tp.fit_transform(df=df, col='review')\n",
    "df_default.head()"
   ]
  },
  {
   "cell_type": "markdown",
   "metadata": {},
   "source": [
    "## Improved stopwords list and remove punctuation"
   ]
  },
  {
   "cell_type": "code",
   "execution_count": 6,
   "metadata": {},
   "outputs": [],
   "source": [
    "new_stoplist = stopwords.words('english') \n",
    "ponc_list = [p for p in string.punctuation]\n",
    "new_stopwords = new_stoplist + ponc_list + ['br', '``', \"'\"]\n",
    "_ = [new_stopwords.remove(w) for w in ['not','very','few','wasn','wouldn']]\n",
    "\n",
    "tp = TextProcessor(stop_list=new_stopwords)\n"
   ]
  },
  {
   "cell_type": "code",
   "execution_count": 7,
   "metadata": {},
   "outputs": [
    {
     "name": "stdout",
     "output_type": "stream",
     "text": [
      "using custom stop list\n"
     ]
    },
    {
     "data": {
      "text/html": [
       "<div>\n",
       "<style scoped>\n",
       "    .dataframe tbody tr th:only-of-type {\n",
       "        vertical-align: middle;\n",
       "    }\n",
       "\n",
       "    .dataframe tbody tr th {\n",
       "        vertical-align: top;\n",
       "    }\n",
       "\n",
       "    .dataframe thead th {\n",
       "        text-align: right;\n",
       "    }\n",
       "</style>\n",
       "<table border=\"1\" class=\"dataframe\">\n",
       "  <thead>\n",
       "    <tr style=\"text-align: right;\">\n",
       "      <th></th>\n",
       "      <th>review</th>\n",
       "      <th>sentiment</th>\n",
       "    </tr>\n",
       "  </thead>\n",
       "  <tbody>\n",
       "    <tr>\n",
       "      <th>0</th>\n",
       "      <td>one reviewer ha mentioned watching 1 oz episod...</td>\n",
       "      <td>1</td>\n",
       "    </tr>\n",
       "    <tr>\n",
       "      <th>1</th>\n",
       "      <td>wonderful little production filming technique ...</td>\n",
       "      <td>1</td>\n",
       "    </tr>\n",
       "    <tr>\n",
       "      <th>2</th>\n",
       "      <td>thought wa wonderful way spend time hot summer...</td>\n",
       "      <td>1</td>\n",
       "    </tr>\n",
       "    <tr>\n",
       "      <th>3</th>\n",
       "      <td>basically 's family little boy jake think 's z...</td>\n",
       "      <td>0</td>\n",
       "    </tr>\n",
       "    <tr>\n",
       "      <th>4</th>\n",
       "      <td>petter mattei 's love time money visually stun...</td>\n",
       "      <td>1</td>\n",
       "    </tr>\n",
       "  </tbody>\n",
       "</table>\n",
       "</div>"
      ],
      "text/plain": [
       "                                              review  sentiment\n",
       "0  one reviewer ha mentioned watching 1 oz episod...          1\n",
       "1  wonderful little production filming technique ...          1\n",
       "2  thought wa wonderful way spend time hot summer...          1\n",
       "3  basically 's family little boy jake think 's z...          0\n",
       "4  petter mattei 's love time money visually stun...          1"
      ]
     },
     "execution_count": 7,
     "metadata": {},
     "output_type": "execute_result"
    }
   ],
   "source": [
    "df_improved = tp.fit_transform(df=df, col='review')\n",
    "df_improved.head()"
   ]
  },
  {
   "cell_type": "markdown",
   "metadata": {},
   "source": [
    "## Create a vocabulary of the words"
   ]
  },
  {
   "cell_type": "code",
   "execution_count": 8,
   "metadata": {},
   "outputs": [],
   "source": [
    "cv = CountVectorizer()"
   ]
  },
  {
   "cell_type": "code",
   "execution_count": 9,
   "metadata": {},
   "outputs": [],
   "source": [
    "df_improved = cv.fit_transform(df_improved['review'])"
   ]
  },
  {
   "cell_type": "code",
   "execution_count": 10,
   "metadata": {},
   "outputs": [
    {
     "data": {
      "text/html": [
       "<div>\n",
       "<style scoped>\n",
       "    .dataframe tbody tr th:only-of-type {\n",
       "        vertical-align: middle;\n",
       "    }\n",
       "\n",
       "    .dataframe tbody tr th {\n",
       "        vertical-align: top;\n",
       "    }\n",
       "\n",
       "    .dataframe thead th {\n",
       "        text-align: right;\n",
       "    }\n",
       "</style>\n",
       "<table border=\"1\" class=\"dataframe\">\n",
       "  <thead>\n",
       "    <tr style=\"text-align: right;\">\n",
       "      <th></th>\n",
       "      <th>0</th>\n",
       "    </tr>\n",
       "  </thead>\n",
       "  <tbody>\n",
       "    <tr>\n",
       "      <th>óli</th>\n",
       "      <td>94374</td>\n",
       "    </tr>\n",
       "    <tr>\n",
       "      <th>önsjön</th>\n",
       "      <td>94375</td>\n",
       "    </tr>\n",
       "    <tr>\n",
       "      <th>örnek</th>\n",
       "      <td>94376</td>\n",
       "    </tr>\n",
       "    <tr>\n",
       "      <th>özdemir</th>\n",
       "      <td>94377</td>\n",
       "    </tr>\n",
       "    <tr>\n",
       "      <th>østbye</th>\n",
       "      <td>94378</td>\n",
       "    </tr>\n",
       "    <tr>\n",
       "      <th>úber</th>\n",
       "      <td>94379</td>\n",
       "    </tr>\n",
       "    <tr>\n",
       "      <th>über</th>\n",
       "      <td>94380</td>\n",
       "    </tr>\n",
       "    <tr>\n",
       "      <th>übermensch</th>\n",
       "      <td>94381</td>\n",
       "    </tr>\n",
       "    <tr>\n",
       "      <th>übermenschlich</th>\n",
       "      <td>94382</td>\n",
       "    </tr>\n",
       "    <tr>\n",
       "      <th>überwoman</th>\n",
       "      <td>94383</td>\n",
       "    </tr>\n",
       "    <tr>\n",
       "      <th>ünel</th>\n",
       "      <td>94384</td>\n",
       "    </tr>\n",
       "    <tr>\n",
       "      <th>ünfaithful</th>\n",
       "      <td>94385</td>\n",
       "    </tr>\n",
       "    <tr>\n",
       "      <th>üvegtigris</th>\n",
       "      <td>94386</td>\n",
       "    </tr>\n",
       "    <tr>\n",
       "      <th>üzümcü</th>\n",
       "      <td>94387</td>\n",
       "    </tr>\n",
       "    <tr>\n",
       "      <th>ýs</th>\n",
       "      <td>94388</td>\n",
       "    </tr>\n",
       "    <tr>\n",
       "      <th>þorleifsson</th>\n",
       "      <td>94389</td>\n",
       "    </tr>\n",
       "    <tr>\n",
       "      <th>þór</th>\n",
       "      <td>94390</td>\n",
       "    </tr>\n",
       "    <tr>\n",
       "      <th>żmijewski</th>\n",
       "      <td>94391</td>\n",
       "    </tr>\n",
       "    <tr>\n",
       "      <th>יגאל</th>\n",
       "      <td>94392</td>\n",
       "    </tr>\n",
       "    <tr>\n",
       "      <th>כרמון</th>\n",
       "      <td>94393</td>\n",
       "    </tr>\n",
       "  </tbody>\n",
       "</table>\n",
       "</div>"
      ],
      "text/plain": [
       "                    0\n",
       "óli             94374\n",
       "önsjön          94375\n",
       "örnek           94376\n",
       "özdemir         94377\n",
       "østbye          94378\n",
       "úber            94379\n",
       "über            94380\n",
       "übermensch      94381\n",
       "übermenschlich  94382\n",
       "überwoman       94383\n",
       "ünel            94384\n",
       "ünfaithful      94385\n",
       "üvegtigris      94386\n",
       "üzümcü          94387\n",
       "ýs              94388\n",
       "þorleifsson     94389\n",
       "þór             94390\n",
       "żmijewski       94391\n",
       "יגאל            94392\n",
       "כרמון           94393"
      ]
     },
     "execution_count": 10,
     "metadata": {},
     "output_type": "execute_result"
    }
   ],
   "source": [
    "pd.DataFrame([cv.vocabulary_]).T.sort_values(0).iloc[-20:]"
   ]
  },
  {
   "cell_type": "markdown",
   "metadata": {},
   "source": [
    "There is definetly a different language here, I also saw some french words. Using google translate, I saw some:\n",
    "- icelandic\n",
    "- hebrew\n",
    "- hungarian\n",
    "- catalan   \n",
    "- ...   \n",
    "\n",
    "and more"
   ]
  },
  {
   "cell_type": "code",
   "execution_count": 11,
   "metadata": {},
   "outputs": [
    {
     "data": {
      "text/plain": [
       "False"
      ]
     },
     "execution_count": 11,
     "metadata": {},
     "output_type": "execute_result"
    }
   ],
   "source": [
    "# We can see that one of the most frequent french word is in the french stopwords list. Since I'm french, I can confirm that that verb isn't menaingful\n",
    "# for sentiment classification\n",
    "'était' in new_stopwords"
   ]
  },
  {
   "cell_type": "code",
   "execution_count": 12,
   "metadata": {},
   "outputs": [],
   "source": [
    "# I don't think I can clean all of the reviews right now, but let's just add those two"
   ]
  },
  {
   "cell_type": "code",
   "execution_count": 13,
   "metadata": {},
   "outputs": [
    {
     "name": "stdout",
     "output_type": "stream",
     "text": [
      "using custom stop list\n"
     ]
    },
    {
     "data": {
      "text/html": [
       "<div>\n",
       "<style scoped>\n",
       "    .dataframe tbody tr th:only-of-type {\n",
       "        vertical-align: middle;\n",
       "    }\n",
       "\n",
       "    .dataframe tbody tr th {\n",
       "        vertical-align: top;\n",
       "    }\n",
       "\n",
       "    .dataframe thead th {\n",
       "        text-align: right;\n",
       "    }\n",
       "</style>\n",
       "<table border=\"1\" class=\"dataframe\">\n",
       "  <thead>\n",
       "    <tr style=\"text-align: right;\">\n",
       "      <th></th>\n",
       "      <th>review</th>\n",
       "      <th>sentiment</th>\n",
       "    </tr>\n",
       "  </thead>\n",
       "  <tbody>\n",
       "    <tr>\n",
       "      <th>0</th>\n",
       "      <td>one reviewer ha mentioned watching 1 oz episod...</td>\n",
       "      <td>1</td>\n",
       "    </tr>\n",
       "    <tr>\n",
       "      <th>1</th>\n",
       "      <td>wonderful little production filming technique ...</td>\n",
       "      <td>1</td>\n",
       "    </tr>\n",
       "    <tr>\n",
       "      <th>2</th>\n",
       "      <td>thought wa wonderful way spend time hot summer...</td>\n",
       "      <td>1</td>\n",
       "    </tr>\n",
       "    <tr>\n",
       "      <th>3</th>\n",
       "      <td>basically 's family little boy jake think 's z...</td>\n",
       "      <td>0</td>\n",
       "    </tr>\n",
       "    <tr>\n",
       "      <th>4</th>\n",
       "      <td>petter mattei 's love time money visually stun...</td>\n",
       "      <td>1</td>\n",
       "    </tr>\n",
       "  </tbody>\n",
       "</table>\n",
       "</div>"
      ],
      "text/plain": [
       "                                              review  sentiment\n",
       "0  one reviewer ha mentioned watching 1 oz episod...          1\n",
       "1  wonderful little production filming technique ...          1\n",
       "2  thought wa wonderful way spend time hot summer...          1\n",
       "3  basically 's family little boy jake think 's z...          0\n",
       "4  petter mattei 's love time money visually stun...          1"
      ]
     },
     "execution_count": 13,
     "metadata": {},
     "output_type": "execute_result"
    }
   ],
   "source": [
    "# let's add turkish stopwords and french\n",
    "fr_stopwords = stopwords.words('french')\n",
    "tk_stopwords = stopwords.words('turkish')\n",
    "new_stoplist = stopwords.words('english') \n",
    "ponc_list = [p for p in string.punctuation]\n",
    "new_stopwords = new_stoplist + ponc_list + ['br', '``', \"'\", '\"'] + fr_stopwords + tk_stopwords\n",
    "_ = [new_stopwords.remove(w) for w in ['not','very','few','wasn','wouldn']]\n",
    "\n",
    "tp = TextProcessor(stop_list=new_stopwords)\n",
    "df_final = tp.fit_transform(df=df, col='review')\n",
    "df_final.head()"
   ]
  },
  {
   "cell_type": "markdown",
   "metadata": {},
   "source": [
    "# <span style=\"color:#FD6556\">Shuffle and Split</span>"
   ]
  },
  {
   "cell_type": "code",
   "execution_count": 15,
   "metadata": {},
   "outputs": [],
   "source": [
    "df_final = df_final.sample(frac=1)\n",
    "\n",
    "df_final['role'] = np.random.uniform(size=50000)\n",
    "df_final['role'] = df_final['role'].apply(lambda x: 'train' if x < .8 else 'test')\n",
    "df_final.reset_index(drop=True, inplace=True)\n",
    "\n",
    "df_final.to_parquet('../data/processed/imdb_dataset.parquet', compression='gzip')"
   ]
  },
  {
   "cell_type": "code",
   "execution_count": null,
   "metadata": {},
   "outputs": [],
   "source": []
  }
 ],
 "metadata": {
  "kernelspec": {
   "display_name": "Python 3",
   "language": "python",
   "name": "python3"
  },
  "language_info": {
   "codemirror_mode": {
    "name": "ipython",
    "version": 3
   },
   "file_extension": ".py",
   "mimetype": "text/x-python",
   "name": "python",
   "nbconvert_exporter": "python",
   "pygments_lexer": "ipython3",
   "version": "3.8.5"
  }
 },
 "nbformat": 4,
 "nbformat_minor": 4
}
