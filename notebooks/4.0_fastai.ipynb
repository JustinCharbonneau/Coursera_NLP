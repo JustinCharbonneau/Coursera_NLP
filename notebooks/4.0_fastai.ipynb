{
 "cells": [
  {
   "cell_type": "markdown",
   "metadata": {},
   "source": [
    "# FastAI\n",
    "\n",
    "Transfer Learning using UMLFiT.\n",
    "\n",
    "Note: For this experiment, I am using a GPU. \n",
    "\n",
    "\n",
    "### Summary\n",
    "\n",
    "- First step, we fine tune a language model.\n",
    "  \n",
    "### Additional Resources\n",
    "\n",
    "[FastAI NLP Video](https://www.youtube.com/watch?v=5gCQvuznKn0&list=PLtmWHNX-gukKocXQOkQjuVxglSDYWsSh9&index=9)  \n",
    "[FastAI NLP Repo](https://github.com/fastai/course-nlp/blob/master/5-nn-imdb.ipynb)  \n",
    "[UMLFiT Research Paper](https://arxiv.org/abs/1801.06146)"
   ]
  },
  {
   "cell_type": "code",
   "execution_count": 1,
   "metadata": {},
   "outputs": [],
   "source": [
    "import sys\n",
    "sys.path.append('../src')\n",
    "import pandas as pd\n",
    "from sklearn.metrics import classification_report, confusion_matrix, accuracy_score\n",
    "from pathlib import Path\n",
    "from os import remove\n",
    "import numpy as np\n",
    "from sklearn.model_selection import train_test_split\n",
    "from fastai import *\n",
    "from fastai.text import *"
   ]
  },
  {
   "cell_type": "code",
   "execution_count": 3,
   "metadata": {},
   "outputs": [],
   "source": [
    "df = pd.read_parquet('../data/processed/imdb_dataset.parquet')\n",
    "train_df = df[df['role']=='train']\n",
    "test_df = df[df['role']=='test']\n",
    "del df"
   ]
  },
  {
   "cell_type": "code",
   "execution_count": 4,
   "metadata": {},
   "outputs": [],
   "source": [
    "train_df = train_df.rename(columns={'review':'text','sentiment':'labels'})\n",
    "test_df = test_df.rename(columns={'review':'text','sentiment':'labels'})"
   ]
  },
  {
   "cell_type": "markdown",
   "metadata": {},
   "source": [
    "# Create a lm data bunch"
   ]
  },
  {
   "cell_type": "code",
   "execution_count": null,
   "metadata": {},
   "outputs": [],
   "source": []
  }
 ],
 "metadata": {
  "kernelspec": {
   "display_name": "Python 3",
   "language": "python",
   "name": "python3"
  },
  "language_info": {
   "codemirror_mode": {
    "name": "ipython",
    "version": 3
   },
   "file_extension": ".py",
   "mimetype": "text/x-python",
   "name": "python",
   "nbconvert_exporter": "python",
   "pygments_lexer": "ipython3",
   "version": "3.7.3"
  }
 },
 "nbformat": 4,
 "nbformat_minor": 4
}
