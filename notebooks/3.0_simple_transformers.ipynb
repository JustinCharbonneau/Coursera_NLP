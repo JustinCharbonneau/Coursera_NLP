{
 "cells": [
  {
   "cell_type": "markdown",
   "metadata": {},
   "source": [
    "# Simple Transformers\n",
    "\n",
    "\n",
    "\n",
    "### Recap\n",
    "\n",
    "\n",
    "### Summary\n",
    "\n",
    "\n",
    "  \n",
    "### Additional Resources\n"
   ]
  },
  {
   "cell_type": "code",
   "execution_count": 10,
   "metadata": {},
   "outputs": [],
   "source": [
    "import sys\n",
    "sys.path.append('../src')\n",
    "import pandas as pd\n",
    "from sklearn.metrics import classification_report, confusion_matrix, accuracy_score\n",
    "from pathlib import Path\n",
    "from os import remove\n",
    "import numpy as np\n",
    "from sklearn.model_selection import train_test_split\n",
    "from simpletransformers.classification import ClassificationModel\n"
   ]
  },
  {
   "cell_type": "code",
   "execution_count": 11,
   "metadata": {},
   "outputs": [],
   "source": [
    "df = pd.read_parquet('../data/processed/imdb_dataset.parquet')\n",
    "train_df = df[df['role']=='train']\n",
    "test_df = df[df['role']=='test']\n",
    "del df"
   ]
  },
  {
   "cell_type": "code",
   "execution_count": 14,
   "metadata": {},
   "outputs": [],
   "source": [
    "train_df = train_df.rename(columns={'review':'text','sentiment':'labels'})\n",
    "test_df = test_df.rename(columns={'review':'text','sentiment':'labels'})"
   ]
  },
  {
   "cell_type": "markdown",
   "metadata": {},
   "source": [
    "# BERT"
   ]
  },
  {
   "cell_type": "code",
   "execution_count": 16,
   "metadata": {},
   "outputs": [
    {
     "ename": "ValueError",
     "evalue": "'use_cuda' set to True when cuda is unavailable. Make sure CUDA is available or set use_cuda=False.",
     "output_type": "error",
     "traceback": [
      "\u001b[0;31m---------------------------------------------------------------------------\u001b[0m",
      "\u001b[0;31mValueError\u001b[0m                                Traceback (most recent call last)",
      "\u001b[0;32m<ipython-input-16-bba211119cfe>\u001b[0m in \u001b[0;36m<module>\u001b[0;34m\u001b[0m\n\u001b[1;32m      2\u001b[0m \u001b[0mmodel_name\u001b[0m \u001b[0;34m=\u001b[0m \u001b[0;34m'bert-base-cased'\u001b[0m\u001b[0;34m\u001b[0m\u001b[0;34m\u001b[0m\u001b[0m\n\u001b[1;32m      3\u001b[0m \u001b[0;31m# Play with different max_seq_length\u001b[0m\u001b[0;34m\u001b[0m\u001b[0;34m\u001b[0m\u001b[0;34m\u001b[0m\u001b[0m\n\u001b[0;32m----> 4\u001b[0;31m model = ClassificationModel(model_type, model_name, num_labels=2,\n\u001b[0m\u001b[1;32m      5\u001b[0m                             args={\n\u001b[1;32m      6\u001b[0m                                 \u001b[0;34m'output_dir'\u001b[0m\u001b[0;34m:\u001b[0m \u001b[0;34mf'outputs/{model_name}/'\u001b[0m\u001b[0;34m,\u001b[0m\u001b[0;34m\u001b[0m\u001b[0;34m\u001b[0m\u001b[0m\n",
      "\u001b[0;32m~/opt/anaconda3/envs/imdb/lib/python3.8/site-packages/simpletransformers/classification/classification_model.py\u001b[0m in \u001b[0;36m__init__\u001b[0;34m(self, model_type, model_name, num_labels, weight, args, use_cuda, cuda_device, **kwargs)\u001b[0m\n\u001b[1;32m    173\u001b[0m                     \u001b[0mself\u001b[0m\u001b[0;34m.\u001b[0m\u001b[0mdevice\u001b[0m \u001b[0;34m=\u001b[0m \u001b[0mtorch\u001b[0m\u001b[0;34m.\u001b[0m\u001b[0mdevice\u001b[0m\u001b[0;34m(\u001b[0m\u001b[0;34mf\"cuda:{cuda_device}\"\u001b[0m\u001b[0;34m)\u001b[0m\u001b[0;34m\u001b[0m\u001b[0;34m\u001b[0m\u001b[0m\n\u001b[1;32m    174\u001b[0m             \u001b[0;32melse\u001b[0m\u001b[0;34m:\u001b[0m\u001b[0;34m\u001b[0m\u001b[0;34m\u001b[0m\u001b[0m\n\u001b[0;32m--> 175\u001b[0;31m                 raise ValueError(\n\u001b[0m\u001b[1;32m    176\u001b[0m                     \u001b[0;34m\"'use_cuda' set to True when cuda is unavailable.\"\u001b[0m\u001b[0;34m\u001b[0m\u001b[0;34m\u001b[0m\u001b[0m\n\u001b[1;32m    177\u001b[0m                     \u001b[0;34m\" Make sure CUDA is available or set use_cuda=False.\"\u001b[0m\u001b[0;34m\u001b[0m\u001b[0;34m\u001b[0m\u001b[0m\n",
      "\u001b[0;31mValueError\u001b[0m: 'use_cuda' set to True when cuda is unavailable. Make sure CUDA is available or set use_cuda=False."
     ]
    }
   ],
   "source": [
    "model_type = 'bert'\n",
    "model_name = 'bert-base-cased'\n",
    "# TODO: Play with different max_seq_length\n",
    "model = ClassificationModel(model_type, model_name, num_labels=2,\n",
    "                            args={\n",
    "                                'output_dir': f'outputs/{model_name}/',\n",
    "                                'reprocess_input_data': True,\n",
    "                                'overwrite_output_dir': True,\n",
    "                                'max_seq_length': 40,\n",
    "                                'train_batch_size': 32,\n",
    "                                'eval_batch_size': 32,\n",
    "                            }) \n",
    "model.train_model(df_train[['text','labels']])"
   ]
  },
  {
   "cell_type": "code",
   "execution_count": null,
   "metadata": {},
   "outputs": [],
   "source": [
    "result, model_outputs, wrong_predictions = model.eval_model(df_test[['text','labels']], acc=accuracy_score)"
   ]
  }
 ],
 "metadata": {
  "kernelspec": {
   "display_name": "Python 3",
   "language": "python",
   "name": "python3"
  },
  "language_info": {
   "codemirror_mode": {
    "name": "ipython",
    "version": 3
   },
   "file_extension": ".py",
   "mimetype": "text/x-python",
   "name": "python",
   "nbconvert_exporter": "python",
   "pygments_lexer": "ipython3",
   "version": "3.8.5"
  }
 },
 "nbformat": 4,
 "nbformat_minor": 4
}
